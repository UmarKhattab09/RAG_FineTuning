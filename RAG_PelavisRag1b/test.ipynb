{
 "cells": [
  {
   "cell_type": "code",
   "execution_count": 6,
   "id": "106ec555",
   "metadata": {},
   "outputs": [],
   "source": [
    "from tqdm.notebook import tqdm\n"
   ]
  },
  {
   "cell_type": "code",
   "execution_count": 13,
   "id": "361c0be5",
   "metadata": {},
   "outputs": [],
   "source": [
    "from transformers import AutoTokenizer, pipeline\n",
    "model_name = \"PleIAs/Pleias-RAG-1B\"\n",
    "tokenizer = AutoTokenizer.from_pretrained(model_name)\n"
   ]
  },
  {
   "cell_type": "code",
   "execution_count": 8,
   "id": "f624b82d",
   "metadata": {},
   "outputs": [],
   "source": [
    "import os\n",
    "import sys\n",
    "from pathlib import Path\n",
    "env_path = Path(\"../RAG_illama/.env\")\n",
    "from dotenv import load_dotenv\n",
    "load_dotenv(dotenv_path=env_path)\n",
    "PINEAPI = os.getenv(\"PINECONE\")\n"
   ]
  },
  {
   "cell_type": "code",
   "execution_count": 17,
   "id": "e0bd8aba",
   "metadata": {},
   "outputs": [],
   "source": [
    "from transformers import AutoModelForCausalLM\n",
    "model = AutoModelForCausalLM.from_pretrained(model_name)\n",
    "tokenizer = AutoTokenizer.from_pretrained(model_name)"
   ]
  },
  {
   "cell_type": "code",
   "execution_count": 20,
   "id": "66a599ba",
   "metadata": {},
   "outputs": [],
   "source": [
    "# pipe = pipeline('text-generation', model=model_name, tokenizer=model_name, device=0)\n",
    "# output = pipe(\n",
    "#     max_length=1000, \n",
    "#     num_return_sequences=1, \n",
    "#     top_k=50, \n",
    "#     top_p=0.95, \n",
    "#     temperature=0.5, \n",
    "#     do_sample=True, \n",
    "#     return_full_text=False\n",
    "# )"
   ]
  },
  {
   "cell_type": "code",
   "execution_count": 21,
   "id": "b1572185",
   "metadata": {},
   "outputs": [
    {
     "name": "stderr",
     "output_type": "stream",
     "text": [
      "Device set to use cpu\n"
     ]
    }
   ],
   "source": [
    "llm_model = pipeline(\n",
    "    model=model,\n",
    "    tokenizer=tokenizer,\n",
    "    task=\"text-generation\",\n",
    "    do_sample=True,\n",
    "    temperature=0.4,\n",
    "    repetition_penalty=1.1,\n",
    "    return_full_text=False,\n",
    "    max_new_tokens=500,\n",
    ")"
   ]
  },
  {
   "cell_type": "code",
   "execution_count": 22,
   "id": "c6e01c40",
   "metadata": {},
   "outputs": [],
   "source": [
    "prompt = \"\"\"\n",
    "<|system|>\n",
    "You are a helpful assistant that answers on medical questions based on the real information provided from different sources and in the context.\n",
    "Give the rational and well written response. If you don't have proper info in the context, answer \"I don't know\"\n",
    "Respond only to the question asked.\n",
    "\n",
    "<|user|>\n",
    "Context:\n",
    "{context}\n",
    "---\n",
    "Here is the question you need to answer.\n",
    "\n",
    "Question: {question}\n",
    "<|assistant|>\n",
    "\"\"\""
   ]
  },
  {
   "cell_type": "code",
   "execution_count": 23,
   "id": "c216aa40",
   "metadata": {},
   "outputs": [],
   "source": [
    "from langchain_community.embeddings import HuggingFaceEmbeddings\n",
    "model_name = \"thenlper/gte-small\""
   ]
  },
  {
   "cell_type": "code",
   "execution_count": 24,
   "id": "abf83209",
   "metadata": {},
   "outputs": [
    {
     "name": "stderr",
     "output_type": "stream",
     "text": [
      "C:\\Users\\khatt\\AppData\\Local\\Temp\\ipykernel_20496\\3142973650.py:1: LangChainDeprecationWarning: The class `HuggingFaceEmbeddings` was deprecated in LangChain 0.2.2 and will be removed in 1.0. An updated version of the class exists in the :class:`~langchain-huggingface package and should be used instead. To use it run `pip install -U :class:`~langchain-huggingface` and import as `from :class:`~langchain_huggingface import HuggingFaceEmbeddings``.\n",
      "  embedding_model = HuggingFaceEmbeddings(\n",
      "c:\\Users\\khatt\\Documents\\RAG_FineTuning\\venv\\lib\\site-packages\\huggingface_hub\\file_download.py:143: UserWarning: `huggingface_hub` cache-system uses symlinks by default to efficiently store duplicated files but your machine does not support them in C:\\Users\\khatt\\.cache\\huggingface\\hub\\models--thenlper--gte-small. Caching files will still work but in a degraded version that might require more space on your disk. This warning can be disabled by setting the `HF_HUB_DISABLE_SYMLINKS_WARNING` environment variable. For more details, see https://huggingface.co/docs/huggingface_hub/how-to-cache#limitations.\n",
      "To support symlinks on Windows, you either need to activate Developer Mode or to run Python as an administrator. In order to activate developer mode, see this article: https://docs.microsoft.com/en-us/windows/apps/get-started/enable-your-device-for-development\n",
      "  warnings.warn(message)\n"
     ]
    }
   ],
   "source": [
    "embedding_model = HuggingFaceEmbeddings(\n",
    "    model_name=model_name,\n",
    "    multi_process=True,\n",
    "    model_kwargs={\"device\": \"cpu\"},\n",
    "    encode_kwargs={\"normalize_embeddings\": True},  # Set `True` for cosine similarity\n",
    ")"
   ]
  },
  {
   "cell_type": "code",
   "execution_count": 27,
   "id": "9454ec95",
   "metadata": {},
   "outputs": [],
   "source": [
    "PINEAPI = os.getenv(\"PINECONE\")\n",
    "from pinecone import Pinecone\n",
    "pc = Pinecone(api_key=PINEAPI)\n",
    "index = pc.Index(\"vectorized\")\n",
    "user_input = input(\"Ask a question\")\n",
    "vectorized_input = embedding_model.embed_query(user_input)\n",
    "\n",
    "context = index.query(\n",
    "    namespace=\"ns1\",\n",
    "    vector=vectorized_input,\n",
    "    top_k=1,\n",
    "    include_metadata=True\n",
    ")"
   ]
  },
  {
   "cell_type": "code",
   "execution_count": 31,
   "id": "6a925a07",
   "metadata": {},
   "outputs": [
    {
     "data": {
      "text/plain": [
       "'5\\tRenal abscess in children. Three cases of renal abscesses in children are described to illustrate the variable presenting features. An additional 23 pediatric cases, reported over the past ten years, were reviewed for clinical features and therapy. Fever, loin pain, and leukocytosis were common presenting features, but less than half of all abscesses were associated with either an abnormal urinalysis or a positive urine culture. The presenting features were sometimes confused with appendicitis, peritonitis, or a Wilms tumor. An organism was identified in 17 cases--Escherichia coli in 9 children and Staphylococcus aureus in 8 children. The majority of E. coli infections occurred in girls and the majority of S. aureus infections occurred in boys. Reflux was documented in 5 patients, and 2 children had a possible extrarenal source of infection. Antibiotics alone produced a cure in 10 children (38%), but 16 children (62%) required a surgical procedure.'"
      ]
     },
     "execution_count": 31,
     "metadata": {},
     "output_type": "execute_result"
    }
   ],
   "source": [
    "context['matches'][0]['metadata']['text']"
   ]
  },
  {
   "cell_type": "code",
   "execution_count": 32,
   "id": "d335af7d",
   "metadata": {},
   "outputs": [
    {
     "name": "stderr",
     "output_type": "stream",
     "text": [
      "Setting `pad_token_id` to `eos_token_id`:2 for open-end generation.\n"
     ]
    }
   ],
   "source": [
    "answer = llm_model(prompt.format(context = context['matches'][0]['metadata']['text'], question = user_input))"
   ]
  },
  {
   "cell_type": "code",
   "execution_count": 38,
   "id": "60d6b49d",
   "metadata": {},
   "outputs": [
    {
     "data": {
      "text/plain": [
       "\"The query asks about the typical presentation of renal abscesses in children, specifically focusing on how these presentations vary across different cases. While this might seem straightforward, it requires careful analysis of the available sources to identify patterns and variations.\\n\\nMost sources can be immediately discarded as they discuss unrelated topics (like kidney stones, abscesses in adults, or other medical conditions). However, we do have two relevant sources:\\n\\n- Source 1 describes various types of renal abscesses in children, including their presentation characteristics.\\n- Source 6 provides additional context about renal abscesses in children, noting their rarity compared to adult cases.\\n\\nBy cross-referencing these sources, we can see that while there are some differences between types of renal abscesses (as shown by source 1), there appears to be consistency in terms of presenting features. This suggests that the variability in presentation isn't due to different types but rather reflects the unique presentation challenges faced by each case.\\n\\n\\n\\n\""
      ]
     },
     "execution_count": 38,
     "metadata": {},
     "output_type": "execute_result"
    }
   ],
   "source": [
    "answer[0]['generated_text'].split('Trivial')[0]"
   ]
  }
 ],
 "metadata": {
  "kernelspec": {
   "display_name": "venv",
   "language": "python",
   "name": "python3"
  },
  "language_info": {
   "codemirror_mode": {
    "name": "ipython",
    "version": 3
   },
   "file_extension": ".py",
   "mimetype": "text/x-python",
   "name": "python",
   "nbconvert_exporter": "python",
   "pygments_lexer": "ipython3",
   "version": "3.10.18"
  }
 },
 "nbformat": 4,
 "nbformat_minor": 5
}
